{
 "cells": [
  {
   "cell_type": "markdown",
   "metadata": {},
   "source": [
    "Simple clustering of MNIST dataset using normalized compression distance"
   ]
  },
  {
   "cell_type": "markdown",
   "metadata": {},
   "source": [
    "# Open data"
   ]
  },
  {
   "cell_type": "code",
   "execution_count": 1,
   "metadata": {},
   "outputs": [],
   "source": [
    "from sklearn import datasets"
   ]
  },
  {
   "cell_type": "code",
   "execution_count": 2,
   "metadata": {},
   "outputs": [],
   "source": [
    "digits = datasets.load_digits()\n",
    "data = digits.data\n",
    "label = digits.target\n",
    "classes = digits.target_names\n",
    "k = len(classes)"
   ]
  },
  {
   "cell_type": "markdown",
   "metadata": {},
   "source": [
    "# Reencoding data"
   ]
  },
  {
   "cell_type": "markdown",
   "metadata": {},
   "source": [
    "For a perfect compressor, it would be enough to work with this initial data. However in real case settings, it is important to encode the data in a meaningful way which allows the compressor to obtain close to optimal performances."
   ]
  },
  {
   "cell_type": "code",
   "execution_count": 3,
   "metadata": {},
   "outputs": [],
   "source": [
    "import numpy as np"
   ]
  },
  {
   "cell_type": "code",
   "execution_count": 4,
   "metadata": {},
   "outputs": [],
   "source": [
    "data = data > 7 # B&W - Could be done more nicely ..."
   ]
  },
  {
   "cell_type": "code",
   "execution_count": 5,
   "metadata": {},
   "outputs": [],
   "source": [
    "reencoded = []\n",
    "for d in data:    \n",
    "    # Add end of line as in the original paper\n",
    "    reencoded.append(np.append(d.reshape(8, 8), np.full((8, 1), -1), axis = 1).flatten())\n",
    "data = np.array(reencoded)"
   ]
  },
  {
   "cell_type": "markdown",
   "metadata": {},
   "source": [
    "# Compute pairwise distance"
   ]
  },
  {
   "cell_type": "code",
   "execution_count": 6,
   "metadata": {},
   "outputs": [],
   "source": [
    "from sklearn.metrics import pairwise_distances\n",
    "from distance import ncd"
   ]
  },
  {
   "cell_type": "code",
   "execution_count": 7,
   "metadata": {},
   "outputs": [],
   "source": [
    "def alternate(x, y):\n",
    "    \"\"\"\n",
    "        Concatenate two arrays alternatively\n",
    "    \"\"\"\n",
    "    result = np.full(len(x) + len(y), 0)\n",
    "    result[::2] = x\n",
    "    result[1::2] = y\n",
    "    return result"
   ]
  },
  {
   "cell_type": "code",
   "execution_count": 8,
   "metadata": {},
   "outputs": [],
   "source": [
    "# For images we try alternate concatenation as the \n",
    "# Compression is unperfect and it actually drastically imporves\n",
    "# Perfomances on short arrays like we have\n",
    "distances = pairwise_distances(data, metric = ncd, n_jobs = 15, \n",
    "                               concatenate = alternate)\n",
    "np.fill_diagonal(distances, 0) # As compression can create non zero distance"
   ]
  },
  {
   "cell_type": "code",
   "execution_count": 9,
   "metadata": {},
   "outputs": [
    {
     "data": {
      "text/plain": [
       "array([[0.        , 0.72072072, 0.88028169, 0.59060403, 0.64393939],\n",
       "       [0.72072072, 0.        , 0.66901408, 0.59731544, 0.64393939],\n",
       "       [0.88028169, 0.66901408, 0.        , 0.5033557 , 0.68309859],\n",
       "       [0.59060403, 0.59731544, 0.5033557 , 0.        , 0.45637584],\n",
       "       [0.64393939, 0.64393939, 0.68309859, 0.45637584, 0.        ]])"
      ]
     },
     "execution_count": 9,
     "metadata": {},
     "output_type": "execute_result"
    }
   ],
   "source": [
    "distances[:5][:, :5]"
   ]
  },
  {
   "cell_type": "markdown",
   "metadata": {},
   "source": [
    "# Visualization distance"
   ]
  },
  {
   "cell_type": "markdown",
   "metadata": {},
   "source": [
    "Display mean distance between labels"
   ]
  },
  {
   "cell_type": "code",
   "execution_count": 10,
   "metadata": {},
   "outputs": [],
   "source": [
    "import matplotlib.pyplot as plt"
   ]
  },
  {
   "cell_type": "code",
   "execution_count": 11,
   "metadata": {},
   "outputs": [],
   "source": [
    "average = np.zeros((k, k))\n",
    "for i in range(k):\n",
    "    for j in range(k):\n",
    "        average[i, j] = distances[label == i][:, label == j].mean()\n",
    "average /= average.max()"
   ]
  },
  {
   "cell_type": "code",
   "execution_count": 12,
   "metadata": {},
   "outputs": [
    {
     "data": {
      "image/png": "[encoded data removed]",
      "text/plain": [
       "<Figure size 432x288 with 2 Axes>"
      ]
     },
     "metadata": {
      "needs_background": "light"
     },
     "output_type": "display_data"
    }
   ],
   "source": [
    "plt.figure()\n",
    "plt.imshow(average, interpolation='nearest', vmin=0)\n",
    "plt.colorbar()\n",
    "plt.tight_layout()"
   ]
  },
  {
   "cell_type": "markdown",
   "metadata": {},
   "source": [
    "# Clustering"
   ]
  },
  {
   "cell_type": "code",
   "execution_count": 13,
   "metadata": {},
   "outputs": [],
   "source": [
    "from sklearn.cluster import KMeans, AgglomerativeClustering, DBSCAN"
   ]
  },
  {
   "cell_type": "markdown",
   "metadata": {},
   "source": [
    "Cluster using agglomerative based on euclidean distance"
   ]
  },
  {
   "cell_type": "code",
   "execution_count": 14,
   "metadata": {},
   "outputs": [],
   "source": [
    "kmeans = KMeans(k).fit_predict(data)"
   ]
  },
  {
   "cell_type": "markdown",
   "metadata": {},
   "source": [
    "Cluster using agglomerative algo on ncb distance"
   ]
  },
  {
   "cell_type": "code",
   "execution_count": 15,
   "metadata": {},
   "outputs": [],
   "source": [
    "agglo = AgglomerativeClustering(k, affinity = 'precomputed', linkage = 'complete').fit_predict(distances)"
   ]
  },
  {
   "cell_type": "markdown",
   "metadata": {},
   "source": [
    "# Evaluation"
   ]
  },
  {
   "cell_type": "code",
   "execution_count": 16,
   "metadata": {},
   "outputs": [],
   "source": [
    "from sklearn.metrics import silhouette_score, adjusted_rand_score"
   ]
  },
  {
   "cell_type": "markdown",
   "metadata": {},
   "source": [
    "### Silhouette score"
   ]
  },
  {
   "cell_type": "markdown",
   "metadata": {},
   "source": [
    "Compute silhouette score using ncd"
   ]
  },
  {
   "cell_type": "code",
   "execution_count": 17,
   "metadata": {},
   "outputs": [
    {
     "name": "stdout",
     "output_type": "stream",
     "text": [
      "Silhouette score for perfect clustering: 0.10\n",
      "Silhouette score for kmeans: 0.10\n",
      "Silhouette score for agglomerative: 0.06\n"
     ]
    }
   ],
   "source": [
    "print(\"Silhouette score for perfect clustering: {:.2f}\".format(silhouette_score(distances, label, metric = 'precomputed')))\n",
    "print(\"Silhouette score for kmeans: {:.2f}\".format(silhouette_score(distances, kmeans, metric = 'precomputed')))\n",
    "print(\"Silhouette score for agglomerative: {:.2f}\".format(silhouette_score(distances, agglo, metric = 'precomputed')))"
   ]
  },
  {
   "cell_type": "markdown",
   "metadata": {},
   "source": [
    "Compute silhouette using euclidean distance"
   ]
  },
  {
   "cell_type": "code",
   "execution_count": 18,
   "metadata": {},
   "outputs": [
    {
     "name": "stdout",
     "output_type": "stream",
     "text": [
      "Silhouette score for perfect clustering: 0.11\n",
      "Silhouette score for kmeans: 0.13\n",
      "Silhouette score for agglomerative: 0.01\n"
     ]
    }
   ],
   "source": [
    "print(\"Silhouette score for perfect clustering: {:.2f}\".format(silhouette_score(data, label)))\n",
    "print(\"Silhouette score for kmeans: {:.2f}\".format(silhouette_score(data, kmeans)))\n",
    "print(\"Silhouette score for agglomerative: {:.2f}\".format(silhouette_score(data, agglo)))"
   ]
  },
  {
   "cell_type": "markdown",
   "metadata": {},
   "source": [
    "### Adjusted Score"
   ]
  },
  {
   "cell_type": "code",
   "execution_count": 19,
   "metadata": {},
   "outputs": [
    {
     "name": "stdout",
     "output_type": "stream",
     "text": [
      "Adjusted Rand Index for kmeans: 0.62\n",
      "Adjusted Rand Index for agglomerative: 0.26\n"
     ]
    }
   ],
   "source": [
    "print(\"Adjusted Rand Index for kmeans: {:.2f}\".format(adjusted_rand_score(label, kmeans)))\n",
    "print(\"Adjusted Rand Index for agglomerative: {:.2f}\".format(adjusted_rand_score(label, agglo)))"
   ]
  },
  {
   "cell_type": "markdown",
   "metadata": {},
   "source": [
    "In conclusion, the performances look less good with this compression. However it is interesting that it achieves non random performances. Moreover, it is important to notice that Silhouette score can be a biased measure of clusters' quality as it is relying on euclidean distance"
   ]
  },
  {
   "cell_type": "code",
   "execution_count": null,
   "metadata": {},
   "outputs": [],
   "source": []
  }
 ],
 "metadata": {
  "kernelspec": {
   "display_name": "Python 3",
   "language": "python",
   "name": "python3"
  },
  "language_info": {
   "codemirror_mode": {
    "name": "ipython",
    "version": 3
   },
   "file_extension": ".py",
   "mimetype": "text/x-python",
   "name": "python",
   "nbconvert_exporter": "python",
   "pygments_lexer": "ipython3",
   "version": "3.7.6"
  }
 },
 "nbformat": 4,
 "nbformat_minor": 4
}
